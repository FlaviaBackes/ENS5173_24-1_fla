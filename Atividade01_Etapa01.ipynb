{
 "cells": [
  {
   "cell_type": "markdown",
   "id": "602a3e41-3528-4750-9520-1363c35fa350",
   "metadata": {},
   "source": [
    "# Aula 02 - Python\n",
    "\n",
    "# Dados Númericos\n"
   ]
  },
  {
   "cell_type": "code",
   "execution_count": 3,
   "id": "b6375e9f-9ae1-4ab1-aa59-31c46b30f132",
   "metadata": {},
   "outputs": [
    {
     "name": "stdout",
     "output_type": "stream",
     "text": [
      "Valor de a = 1\n"
     ]
    },
    {
     "data": {
      "text/plain": [
       "int"
      ]
     },
     "execution_count": 3,
     "metadata": {},
     "output_type": "execute_result"
    }
   ],
   "source": [
    "# Variável inteira\n",
    "a = 1\n",
    "print('Valor de a = '+str(a))\n",
    "type(a)\n",
    "# aqui o codigo deu um valor para a\n",
    "# pediu para exibir a informação 'valor de a', transformando-o em um string positivo\n",
    "# ainda, pediu qual o tipo de informação é 'a', o codigo resultou que é um inteiro"
   ]
  },
  {
   "cell_type": "code",
   "execution_count": 8,
   "id": "d797d748-9c60-4e34-b2ed-635df304199e",
   "metadata": {},
   "outputs": [
    {
     "name": "stdout",
     "output_type": "stream",
     "text": [
      "1.0\n"
     ]
    },
    {
     "data": {
      "text/plain": [
       "float"
      ]
     },
     "execution_count": 8,
     "metadata": {},
     "output_type": "execute_result"
    }
   ],
   "source": [
    "# Variável dupla precisão\n",
    "b = 1.0\n",
    "print(b)\n",
    "type(b)\n",
    "# aqui o codigo deu um valor para b\n",
    "# pediu para exibir a informação 'valor de b'\n",
    "# ainda, pediu qual o tipo de informação é 'b' \n",
    "# o codigo resultou que é uma variavel real"
   ]
  },
  {
   "cell_type": "code",
   "execution_count": 9,
   "id": "b59269ee-ee02-4c71-8d8f-d10ca5df5f5b",
   "metadata": {},
   "outputs": [
    {
     "name": "stdout",
     "output_type": "stream",
     "text": [
      "1\n"
     ]
    },
    {
     "data": {
      "text/plain": [
       "int"
      ]
     },
     "execution_count": 9,
     "metadata": {},
     "output_type": "execute_result"
    }
   ],
   "source": [
    "# Converter float para int\n",
    "c = int(b)\n",
    "print(c)\n",
    "type(c)\n",
    "# definiu-se c como sendo o numero inteiro da variavel b\n",
    "# pediu para exibir c e seu tipo"
   ]
  },
  {
   "cell_type": "code",
   "execution_count": 12,
   "id": "630169c5-c48b-46c0-a5ef-d1aac6a4883c",
   "metadata": {},
   "outputs": [
    {
     "name": "stdout",
     "output_type": "stream",
     "text": [
      "nan\n"
     ]
    },
    {
     "data": {
      "text/plain": [
       "float"
      ]
     },
     "execution_count": 12,
     "metadata": {},
     "output_type": "execute_result"
    }
   ],
   "source": [
    "# Declarando nan\n",
    "import numpy as np\n",
    "d = np.nan\n",
    "print(d)\n",
    "type(d)\n",
    "# importou uma biblioteca de codigo aberto para fazer operações\n",
    "# nan significa que é um valor inválido na operação"
   ]
  },
  {
   "cell_type": "code",
   "execution_count": 16,
   "id": "39f8ed4b-0d23-4a1d-8f08-a7ebe30645a3",
   "metadata": {},
   "outputs": [
    {
     "name": "stdout",
     "output_type": "stream",
     "text": [
      "nan\n",
      "nan\n",
      "1.0\n"
     ]
    }
   ],
   "source": [
    "# Operação com NaN\n",
    "e = d*1\n",
    "print(e)\n",
    "e = d+1\n",
    "print(e)\n",
    "e = np.nansum([d,1])\n",
    "print(e)\n",
    "# multiplica valor de d por 1 como 'e', resultando em nan\n",
    "# tenta somar o valor de d(que é nan) a 1, resulta nan\n",
    "# usa a função nansum para transformar o valor nan, presente em d em zero\n",
    "# e então somar d com o 1, resultando em 1"
   ]
  },
  {
   "cell_type": "markdown",
   "id": "2521c443-306c-464f-a135-1e94c786a41f",
   "metadata": {},
   "source": [
    "# Dados de Texto"
   ]
  },
  {
   "cell_type": "code",
   "execution_count": 26,
   "id": "57002d42-3fa5-45ca-bbf0-d50fbdbdb7b7",
   "metadata": {},
   "outputs": [
    {
     "name": "stdout",
     "output_type": "stream",
     "text": [
      "Fábio\n",
      "Gabriel\n",
      "FábioGabriel\n",
      "Fábio Gabriel\n"
     ]
    }
   ],
   "source": [
    "# Declaração de variável texto\n",
    "f = 'Fábio'\n",
    "g = \"Gabriel\"\n",
    "print(f)\n",
    "print(g)\n",
    "print(f+g)\n",
    "print(f+' '+g)\n",
    "# define valor pra f e g como string Fabio e Gabriel\n",
    "# imprime valor da variavel f e depois da variavel g\n",
    "# imprime soma de f e g\n",
    "# imprime soma de f, o texto espaço e g "
   ]
  },
  {
   "cell_type": "markdown",
   "id": "39111f03-5c84-4118-a8f4-3b448f3e74a9",
   "metadata": {},
   "source": [
    "# Dados tipo Bool- Lógica"
   ]
  },
  {
   "cell_type": "code",
   "execution_count": 25,
   "id": "d810ecbc-b5a7-453b-8571-5c6581d6a6f8",
   "metadata": {},
   "outputs": [
    {
     "data": {
      "text/plain": [
       "True"
      ]
     },
     "execution_count": 25,
     "metadata": {},
     "output_type": "execute_result"
    }
   ],
   "source": [
    "a==1\n",
    "# O '==' faz a comparação dos valores para verificar se são iguais\n",
    "# Retorna verdadeiro ou falso"
   ]
  },
  {
   "cell_type": "code",
   "execution_count": 27,
   "id": "699d0df5-998c-41d9-8673-22245d7081a7",
   "metadata": {},
   "outputs": [
    {
     "name": "stdout",
     "output_type": "stream",
     "text": [
      "True\n"
     ]
    },
    {
     "data": {
      "text/plain": [
       "bool"
      ]
     },
     "execution_count": 27,
     "metadata": {},
     "output_type": "execute_result"
    }
   ],
   "source": [
    "h = (a==1)\n",
    "print(h)\n",
    "type(h)\n",
    "# 'h' recebe true, pois 'a' é igual a 1\n",
    "# bool são valores booleanos (verdadeiro ou falso)"
   ]
  },
  {
   "cell_type": "code",
   "execution_count": 28,
   "id": "7e84b30a-28b0-47c5-97f5-c60c585d2d23",
   "metadata": {},
   "outputs": [
    {
     "name": "stdout",
     "output_type": "stream",
     "text": [
      "False\n"
     ]
    },
    {
     "data": {
      "text/plain": [
       "bool"
      ]
     },
     "execution_count": 28,
     "metadata": {},
     "output_type": "execute_result"
    }
   ],
   "source": [
    "h = (a==2)\n",
    "print(h)\n",
    "type(h)\n",
    "# retornou falso, pois o 'h' já tinha valor 1"
   ]
  },
  {
   "cell_type": "code",
   "execution_count": 29,
   "id": "03d1fdc5-0570-44ff-8769-4ac8238bb745",
   "metadata": {},
   "outputs": [
    {
     "data": {
      "text/plain": [
       "bool"
      ]
     },
     "execution_count": 29,
     "metadata": {},
     "output_type": "execute_result"
    }
   ],
   "source": [
    "i = True\n",
    "type(i)\n",
    "# definiu i como um valor booleano e pediu o seu tipo"
   ]
  },
  {
   "cell_type": "code",
   "execution_count": 30,
   "id": "54fac912-1209-46e0-ad05-0807fe5a7e31",
   "metadata": {},
   "outputs": [
    {
     "data": {
      "text/plain": [
       "str"
      ]
     },
     "execution_count": 30,
     "metadata": {},
     "output_type": "execute_result"
    }
   ],
   "source": [
    "ii = 'True'\n",
    "type(ii)\n",
    "# quando entre aspas, a variavel que armazena é string"
   ]
  },
  {
   "cell_type": "markdown",
   "id": "90cfb92f-3a2f-490b-a258-bcb469427fba",
   "metadata": {},
   "source": [
    "# Operação de Comparação"
   ]
  },
  {
   "cell_type": "code",
   "execution_count": 31,
   "id": "004eacf1-abe6-4b40-9e1a-295de4f3510c",
   "metadata": {},
   "outputs": [
    {
     "data": {
      "text/plain": [
       "True"
      ]
     },
     "execution_count": 31,
     "metadata": {},
     "output_type": "execute_result"
    }
   ],
   "source": [
    "# Operação ==\n",
    "a==b\n",
    "# verificação se 'a' é igual a 'b', retorna true"
   ]
  },
  {
   "cell_type": "code",
   "execution_count": 33,
   "id": "5b8665b8-61d3-4a07-b49b-aee415484b99",
   "metadata": {},
   "outputs": [
    {
     "data": {
      "text/plain": [
       "False"
      ]
     },
     "execution_count": 33,
     "metadata": {},
     "output_type": "execute_result"
    }
   ],
   "source": [
    "# Operação ><\n",
    "a>b\n",
    "# verificação se a é maior que b"
   ]
  },
  {
   "cell_type": "code",
   "execution_count": 34,
   "id": "6d2fe1ca-7fea-4730-a43a-f471a3bed0c5",
   "metadata": {},
   "outputs": [
    {
     "data": {
      "text/plain": [
       "False"
      ]
     },
     "execution_count": 34,
     "metadata": {},
     "output_type": "execute_result"
    }
   ],
   "source": [
    "# Operação !=\n",
    "a!=b\n",
    "# verificação se 'a' é diferente de 'b'"
   ]
  },
  {
   "cell_type": "code",
   "execution_count": 35,
   "id": "eb5fef63-8e5a-4bf2-8dcb-df7c24d42412",
   "metadata": {},
   "outputs": [
    {
     "data": {
      "text/plain": [
       "True"
      ]
     },
     "execution_count": 35,
     "metadata": {},
     "output_type": "execute_result"
    }
   ],
   "source": [
    "# Operação >= ou <=\n",
    "a>=b\n",
    "# Verificação se 'a' é maior ou igual a 'b'"
   ]
  },
  {
   "cell_type": "markdown",
   "id": "05619b1f-5ed9-4f75-9cf2-e8c9d8160c08",
   "metadata": {},
   "source": [
    "# Operações Matemáticas"
   ]
  },
  {
   "cell_type": "code",
   "execution_count": 36,
   "id": "e20eb3d5-b5db-4561-a7f3-5c94db0c826e",
   "metadata": {},
   "outputs": [
    {
     "data": {
      "text/plain": [
       "2.0"
      ]
     },
     "execution_count": 36,
     "metadata": {},
     "output_type": "execute_result"
    }
   ],
   "source": [
    "# Soma \n",
    "a+b\n",
    "# soma de a e b"
   ]
  },
  {
   "cell_type": "code",
   "execution_count": 37,
   "id": "f8f9ba4c-a442-4853-8010-c65b9bc680bc",
   "metadata": {},
   "outputs": [
    {
     "name": "stdout",
     "output_type": "stream",
     "text": [
      "2.0\n"
     ]
    }
   ],
   "source": [
    "# Soma e atribui valor\n",
    "ab = a+b\n",
    "print(ab)\n",
    "# resulta o valor da variavel ab"
   ]
  },
  {
   "cell_type": "code",
   "execution_count": 38,
   "id": "69ec9982-a676-4281-a824-868229a0ab4a",
   "metadata": {},
   "outputs": [
    {
     "name": "stdout",
     "output_type": "stream",
     "text": [
      "Não use l como nome de variável\n",
      "1.0\n"
     ]
    }
   ],
   "source": [
    "# Multiplicação\n",
    "l = a*b # Não use l como variável # l pode se confundir com 1\n",
    "print(\"Não use l como nome de variável\")\n",
    "j = a*b\n",
    "print(j)"
   ]
  },
  {
   "cell_type": "code",
   "execution_count": 39,
   "id": "4642cca3-7c82-46f2-a97f-e388101ce53a",
   "metadata": {},
   "outputs": [
    {
     "data": {
      "text/plain": [
       "1.0"
      ]
     },
     "execution_count": 39,
     "metadata": {},
     "output_type": "execute_result"
    }
   ],
   "source": [
    "# Divisão\n",
    "a/b\n",
    "# faz operação de divisão entre os valores de a e b"
   ]
  },
  {
   "cell_type": "code",
   "execution_count": 40,
   "id": "8eeb075f-8a56-4707-a32a-b551bac702a8",
   "metadata": {},
   "outputs": [
    {
     "data": {
      "text/plain": [
       "25"
      ]
     },
     "execution_count": 40,
     "metadata": {},
     "output_type": "execute_result"
    }
   ],
   "source": [
    "# Potencia\n",
    "5**2\n",
    "# eleva 5 na potência quadrada"
   ]
  },
  {
   "cell_type": "code",
   "execution_count": 42,
   "id": "55d0e03d-48b0-46d8-af4d-db7aba8af44f",
   "metadata": {},
   "outputs": [
    {
     "data": {
      "text/plain": [
       "22026.465794806718"
      ]
     },
     "execution_count": 42,
     "metadata": {},
     "output_type": "execute_result"
    }
   ],
   "source": [
    "# Operações matemáticas com a bibliotéca math\n",
    "import math\n",
    "\n",
    "math.exp(10)\n",
    "# importou módulo math, que calcula o valr de e na potencia 10"
   ]
  },
  {
   "cell_type": "code",
   "execution_count": 43,
   "id": "bf2c60b6-92ba-406c-9e72-a9b66ac31c1b",
   "metadata": {},
   "outputs": [
    {
     "data": {
      "text/plain": [
       "1.0"
      ]
     },
     "execution_count": 43,
     "metadata": {},
     "output_type": "execute_result"
    }
   ],
   "source": [
    "# e elevado na potencia zero\n",
    "math.exp(0)"
   ]
  },
  {
   "cell_type": "code",
   "execution_count": 46,
   "id": "543352ac-bccc-4bfd-ae62-b1ef241aca4e",
   "metadata": {},
   "outputs": [
    {
     "data": {
      "text/plain": [
       "2.718281828459045"
      ]
     },
     "execution_count": 46,
     "metadata": {},
     "output_type": "execute_result"
    }
   ],
   "source": [
    "# e elevado na potencia a, que é 1\n",
    "math.exp(a)"
   ]
  },
  {
   "cell_type": "code",
   "execution_count": 47,
   "id": "e7c9a4de-2973-45e8-8e78-23c30d30f7a6",
   "metadata": {},
   "outputs": [
    {
     "data": {
      "text/plain": [
       "4.5399929762484854e-05"
      ]
     },
     "execution_count": 47,
     "metadata": {},
     "output_type": "execute_result"
    }
   ],
   "source": [
    "math.exp(-10)\n",
    "# e elevado na potencia menos 10"
   ]
  },
  {
   "cell_type": "code",
   "execution_count": 49,
   "id": "0cc830d7-75ca-4c21-a659-c472040479da",
   "metadata": {},
   "outputs": [
    {
     "data": {
      "text/plain": [
       "0.0"
      ]
     },
     "execution_count": 49,
     "metadata": {},
     "output_type": "execute_result"
    }
   ],
   "source": [
    "import math as mt\n",
    "mt.log(c)\n",
    "# importou biblioteca math e pediu pra calcular o log de c\n",
    "# c não teve um valor atribuido"
   ]
  },
  {
   "cell_type": "code",
   "execution_count": 50,
   "id": "41380c13-820c-4ebc-9f3d-f3549e529d3a",
   "metadata": {},
   "outputs": [
    {
     "data": {
      "text/plain": [
       "2.0"
      ]
     },
     "execution_count": 50,
     "metadata": {},
     "output_type": "execute_result"
    }
   ],
   "source": [
    "# 10 elevado a potencia de 2 é 100\n",
    "mt.log10(100)"
   ]
  },
  {
   "cell_type": "markdown",
   "id": "a2ab3fe6-ca23-4b5f-b9e0-d5228def9551",
   "metadata": {},
   "source": [
    "# Listas"
   ]
  },
  {
   "cell_type": "code",
   "execution_count": 51,
   "id": "9159bc99-715c-4670-98be-15ecc8f256b8",
   "metadata": {},
   "outputs": [
    {
     "name": "stdout",
     "output_type": "stream",
     "text": [
      "[1, 2, 3]\n"
     ]
    }
   ],
   "source": [
    "# criou uma lista com os valores de 1,2 e 3 e imprimiu a lista\n",
    "myFirstList = [1,2,3]\n",
    "print(myFirstList)"
   ]
  },
  {
   "cell_type": "code",
   "execution_count": 52,
   "id": "7605f7d9-6502-49d4-bba0-13bffb68b93e",
   "metadata": {},
   "outputs": [
    {
     "name": "stdout",
     "output_type": "stream",
     "text": [
      "1\n",
      "3\n"
     ]
    }
   ],
   "source": [
    "# Acessando valores da lista pelo index\n",
    "print(myFirstList[0]) # acessou o valor 0 da lista, que é 1\n",
    "print(myFirstList[2]) # acessou o valor 2 da lista que é 3"
   ]
  },
  {
   "cell_type": "code",
   "execution_count": 53,
   "id": "ac5e5249-4c08-48b2-94c9-969e7e9ccffc",
   "metadata": {},
   "outputs": [
    {
     "data": {
      "text/plain": [
       "False"
      ]
     },
     "execution_count": 53,
     "metadata": {},
     "output_type": "execute_result"
    }
   ],
   "source": [
    "myFirstList==a\n",
    "# a lista não pode ser igual a 'a'"
   ]
  },
  {
   "cell_type": "code",
   "execution_count": 54,
   "id": "3c7455fb-a8fd-4716-82db-73854ea0fb5c",
   "metadata": {},
   "outputs": [
    {
     "data": {
      "text/plain": [
       "True"
      ]
     },
     "execution_count": 54,
     "metadata": {},
     "output_type": "execute_result"
    }
   ],
   "source": [
    "# o valor zero da lista é 1, sendo igual a 'a'\n",
    "myFirstList[0]==a"
   ]
  },
  {
   "cell_type": "code",
   "execution_count": 55,
   "id": "0d94fb95-1108-433b-bf47-db7082220334",
   "metadata": {},
   "outputs": [
    {
     "name": "stdout",
     "output_type": "stream",
     "text": [
      "[1, 1, 'c']\n"
     ]
    }
   ],
   "source": [
    "# criou uma segunda lista com a variavel 'a' dentro\n",
    "mySecList = [1,a,'c']\n",
    "print(mySecList)"
   ]
  },
  {
   "cell_type": "code",
   "execution_count": 56,
   "id": "fbb78fa3-e7cf-498f-a645-d919ae64fa62",
   "metadata": {},
   "outputs": [
    {
     "data": {
      "text/plain": [
       "list"
      ]
     },
     "execution_count": 56,
     "metadata": {},
     "output_type": "execute_result"
    }
   ],
   "source": [
    "# o tipo de váriavel é list\n",
    "type(mySecList)"
   ]
  },
  {
   "cell_type": "code",
   "execution_count": 59,
   "id": "0ca482e4-52e9-47c7-a2f7-474e743d7a3e",
   "metadata": {},
   "outputs": [
    {
     "data": {
      "text/plain": [
       "str"
      ]
     },
     "execution_count": 59,
     "metadata": {},
     "output_type": "execute_result"
    }
   ],
   "source": [
    "# o tipo de variavel do elemento 2 da lista é string\n",
    "type(mySecList[2])"
   ]
  },
  {
   "cell_type": "code",
   "execution_count": 60,
   "id": "c92a19a2-57d9-4745-9970-4c3f1ca5cd16",
   "metadata": {},
   "outputs": [
    {
     "data": {
      "text/plain": [
       "int"
      ]
     },
     "execution_count": 60,
     "metadata": {},
     "output_type": "execute_result"
    }
   ],
   "source": [
    "# o tipo de variavel do elemento 1 da lista é inteiro\n",
    "type(mySecList[1])"
   ]
  },
  {
   "cell_type": "markdown",
   "id": "f6fff8e4-5a20-40e9-bbe4-2e0bd1f828d0",
   "metadata": {},
   "source": [
    "# Caminhos = path\n"
   ]
  },
  {
   "cell_type": "code",
   "execution_count": 69,
   "id": "3e79793f-d93c-4492-89e5-bd87ead2735c",
   "metadata": {},
   "outputs": [
    {
     "name": "stdout",
     "output_type": "stream",
     "text": [
      "C:\\CPA\\ENS5173_24-1_fla\n"
     ]
    }
   ],
   "source": [
    "# prefixo r desconsidera caracteres especiais, tranformando em normais\n",
    "# \"C:\\CPA\\ENS5173_24-1_fla\"\n",
    "path = r\"C:\\CPA\\ENS5173_24-1_fla\"\n",
    "print(path)"
   ]
  },
  {
   "cell_type": "code",
   "execution_count": 71,
   "id": "a866ca2a-f77e-4717-8eae-090d50cba2a1",
   "metadata": {},
   "outputs": [
    {
     "name": "stdout",
     "output_type": "stream",
     "text": [
      "C:/CPA/ENS5173_24-1_fla\n"
     ]
    }
   ],
   "source": [
    "path = \"C:/CPA/ENS5173_24-1_fla\"\n",
    "print(path)"
   ]
  },
  {
   "cell_type": "code",
   "execution_count": 72,
   "id": "53d36ff3-d2cd-4048-986f-ceabd4f5e1c6",
   "metadata": {},
   "outputs": [
    {
     "data": {
      "text/plain": [
       "['.git',\n",
       " '.gitignore',\n",
       " '.ipynb_checkpoints',\n",
       " 'Aula01.ipynb',\n",
       " 'inputs',\n",
       " 'README.md',\n",
       " 'scripts',\n",
       " 'venv']"
      ]
     },
     "execution_count": 72,
     "metadata": {},
     "output_type": "execute_result"
    }
   ],
   "source": [
    "import os\n",
    "# Listar arquivos na pasta\n",
    "os.listdir(path)\n",
    "# import os significa que será feita uma interação com o sistema operacional\n",
    "# listdir identifica os arquivos no diretório que está no caminho"
   ]
  },
  {
   "cell_type": "code",
   "execution_count": 73,
   "id": "067735a6-29fd-493a-8853-b92a37c5ba35",
   "metadata": {},
   "outputs": [
    {
     "data": {
      "text/plain": [
       "'.git'"
      ]
     },
     "execution_count": 73,
     "metadata": {},
     "output_type": "execute_result"
    }
   ],
   "source": [
    "# Selecionar primeiro arquivo listado\n",
    "os.listdir(path)[0]"
   ]
  },
  {
   "cell_type": "code",
   "execution_count": 75,
   "id": "7d15f65c-6e51-403f-aaad-aab022751ee2",
   "metadata": {},
   "outputs": [
    {
     "data": {
      "text/plain": [
       "'C:/CPA/ENS5173_24-1_fla/.git'"
      ]
     },
     "execution_count": 75,
     "metadata": {},
     "output_type": "execute_result"
    }
   ],
   "source": [
    "# Concatenando caminhos\n",
    "path+\"/\"+os.listdir(path)[0]\n",
    "# usado para garantir que o cod funcione corretamente em outros sistemas operacionais"
   ]
  },
  {
   "cell_type": "code",
   "execution_count": 76,
   "id": "0291860a-1fc8-45ab-8d9c-8d869c3caae0",
   "metadata": {},
   "outputs": [
    {
     "data": {
      "text/plain": [
       "['COMMIT_EDITMSG',\n",
       " 'config',\n",
       " 'description',\n",
       " 'FETCH_HEAD',\n",
       " 'HEAD',\n",
       " 'hooks',\n",
       " 'index',\n",
       " 'info',\n",
       " 'logs',\n",
       " 'objects',\n",
       " 'packed-refs',\n",
       " 'refs']"
      ]
     },
     "execution_count": 76,
     "metadata": {},
     "output_type": "execute_result"
    }
   ],
   "source": [
    "# Listando caminho concatenado\n",
    "os.listdir(path+\"/\"+os.listdir(path)[0])"
   ]
  },
  {
   "cell_type": "code",
   "execution_count": 82,
   "id": "d54515fc-f770-47de-a800-8bd427677a0f",
   "metadata": {},
   "outputs": [
    {
     "data": {
      "text/plain": [
       "'C:\\\\CPA\\\\ENS5173_24-1_fla\\\\venv\\\\Scripts'"
      ]
     },
     "execution_count": 82,
     "metadata": {},
     "output_type": "execute_result"
    }
   ],
   "source": [
    "# Diretório que estou trabalhando\n",
    "os.getcwd()\n",
    "# essa função retorna diretorio que o python ta sendo executado"
   ]
  },
  {
   "cell_type": "code",
   "execution_count": 84,
   "id": "a8575d86-b595-4f23-92de-a7c18fb6df3b",
   "metadata": {},
   "outputs": [],
   "source": [
    "# Mudo de diretório para o caminho \n",
    "os.chdir('C:\\\\CPA\\\\')\n",
    "#C:/CPA/"
   ]
  },
  {
   "cell_type": "code",
   "execution_count": 87,
   "id": "c6ab50cd-856a-45c3-85b3-8622f7390297",
   "metadata": {},
   "outputs": [
    {
     "data": {
      "text/plain": [
       "'C:\\\\CPA'"
      ]
     },
     "execution_count": 87,
     "metadata": {},
     "output_type": "execute_result"
    }
   ],
   "source": [
    "os.getcwd()\n",
    "# retorna diretório atual de trabalho"
   ]
  },
  {
   "cell_type": "code",
   "execution_count": 93,
   "id": "5ee999a8-32f5-4069-84a6-62ce3330233b",
   "metadata": {},
   "outputs": [
    {
     "name": "stdout",
     "output_type": "stream",
     "text": [
      "diretório já existe\n"
     ]
    }
   ],
   "source": [
    "# Criando diretório\n",
    "new_path = os.getcwd()+'/test'\n",
    "\n",
    "if os.path.isdir(new_path):\n",
    "    print('diretório já existe')\n",
    "else:\n",
    "    print('Criando diretório '+new_path)\n",
    "    os.mkdir(new_path)\n",
    "    \n",
    "# criou diretorio novo já que ele não existia\n",
    "# rodei de novo e imprimiu que diretorio é existente"
   ]
  },
  {
   "cell_type": "code",
   "execution_count": 94,
   "id": "54ab28c0-7bb7-489e-a025-68a4a472145e",
   "metadata": {},
   "outputs": [
    {
     "name": "stdout",
     "output_type": "stream",
     "text": [
      "diretório já existe\n"
     ]
    }
   ],
   "source": [
    "# Criando diretório\n",
    "new_path = os.getcwd()+'/test2'\n",
    "\n",
    "if os.path.isdir(new_path):\n",
    "    print('diretório já existe')\n",
    "    # Criando um arquivo de texto\n",
    "    with open(new_path+\"/copy.txt\", \"w\") as file:\n",
    "        file.write(\"Your text goes here\")\n",
    "else:\n",
    "    print('Criando diretório '+new_path)\n",
    "    os.mkdir(new_path)\n",
    "    with open(new_path+\"/copy.txt\", \"w\") as file:\n",
    "        file.write(\"Your text goes here\")\n",
    "\n",
    "# criou diretorio novo já que ele não existia\n",
    "# rodei de novo e imprimiu que diretorio é existente"
   ]
  },
  {
   "cell_type": "markdown",
   "id": "4248f5c2-54d3-4920-bab7-6eea8ff74e47",
   "metadata": {},
   "source": [
    "# Numpy arrays e Pandas DataFrames"
   ]
  },
  {
   "cell_type": "code",
   "execution_count": 97,
   "id": "5dca3ecd-b724-4946-913e-2117f5120819",
   "metadata": {},
   "outputs": [
    {
     "data": {
      "text/plain": [
       "numpy.ndarray"
      ]
     },
     "execution_count": 97,
     "metadata": {},
     "output_type": "execute_result"
    }
   ],
   "source": [
    "import numpy as np\n",
    "# Criando uma variável numpy\n",
    "n = np.array(0)\n",
    "type(n)\n",
    "# criou variavel numpy matriz 'n' com valor escalar de 0"
   ]
  },
  {
   "cell_type": "code",
   "execution_count": 99,
   "id": "5e896af2-a845-4296-9a76-06fb7cfb7780",
   "metadata": {},
   "outputs": [
    {
     "name": "stdout",
     "output_type": "stream",
     "text": [
      "[ 1  2  3 10 20 55]\n"
     ]
    }
   ],
   "source": [
    "# Criando uma variável numpy a partir de uma lista\n",
    "myThirdList=[1,2,3,10,20,55]\n",
    "n = np.array(myThirdList)\n",
    "print(n)\n",
    "# criou um array numpy com a lista, sendo cada um array numpy"
   ]
  },
  {
   "cell_type": "code",
   "execution_count": 101,
   "id": "af4f2c95-9606-46f4-91ae-2ab65d10a66b",
   "metadata": {},
   "outputs": [
    {
     "name": "stdout",
     "output_type": "stream",
     "text": [
      "[[0.33044044 0.84570698 0.23452239 0.56762515 0.07616677 0.90943134\n",
      "  0.78544855 0.87217973 0.54793391 0.27204068]\n",
      " [0.38811812 0.44754607 0.51145719 0.01709822 0.80081769 0.1467038\n",
      "  0.51222068 0.48051776 0.25770496 0.0872671 ]\n",
      " [0.42331064 0.26951845 0.44826933 0.65687441 0.39097762 0.47571024\n",
      "  0.11930114 0.6795128  0.53285248 0.70376466]\n",
      " [0.6819871  0.71068569 0.29993132 0.37882488 0.80771314 0.93333218\n",
      "  0.84851564 0.73038075 0.57405004 0.4236747 ]\n",
      " [0.64368782 0.13002048 0.85209877 0.01592487 0.8972322  0.08176325\n",
      "  0.87231991 0.92972166 0.54607881 0.9660557 ]\n",
      " [0.6591712  0.81483332 0.21096774 0.3247346  0.92405997 0.89579237\n",
      "  0.30113634 0.48819303 0.34448493 0.24007914]\n",
      " [0.99768232 0.41097165 0.50339224 0.3530622  0.12526365 0.38450529\n",
      "  0.06487622 0.2721953  0.16983203 0.59804692]\n",
      " [0.16683538 0.46956351 0.35902018 0.75437464 0.20096108 0.89759049\n",
      "  0.73673831 0.41906067 0.29936117 0.06867242]\n",
      " [0.63800379 0.39254537 0.71429042 0.98486418 0.59344248 0.71146775\n",
      "  0.62047279 0.01999288 0.60862358 0.23587545]\n",
      " [0.92175861 0.08223755 0.61999815 0.31647604 0.93619314 0.18401701\n",
      "  0.74924929 0.66245041 0.34003009 0.20298021]]\n",
      "(10, 10)\n"
     ]
    }
   ],
   "source": [
    "# Criando uma matriz de 10x10 de números aleatórios entre 0 e 1\n",
    "n = np.random.rand(10,10)\n",
    "print(n)\n",
    "# Dimensões da matrix\n",
    "print(n.shape)\n",
    "# matriz de 10x10 com numeros aleatorios entre 0 e 1"
   ]
  },
  {
   "cell_type": "code",
   "execution_count": 103,
   "id": "2ab96d83-5e5b-4b74-884d-db2295b69a9e",
   "metadata": {},
   "outputs": [
    {
     "data": {
      "text/plain": [
       "array([0.33044044, 0.84570698, 0.23452239, 0.56762515, 0.07616677,\n",
       "       0.90943134, 0.78544855, 0.87217973, 0.54793391, 0.27204068])"
      ]
     },
     "execution_count": 103,
     "metadata": {},
     "output_type": "execute_result"
    }
   ],
   "source": [
    "#acessa primeira linha da matriz, : significa que são todos os elementos\n",
    "# Acessando valores da matriz\n",
    "n[0,:]"
   ]
  },
  {
   "cell_type": "code",
   "execution_count": 105,
   "id": "32c79a61-b2d8-4db9-8be3-1bee592ddaed",
   "metadata": {},
   "outputs": [
    {
     "data": {
      "text/plain": [
       "array([0.33044044, 0.38811812, 0.42331064, 0.6819871 , 0.64368782,\n",
       "       0.6591712 , 0.99768232, 0.16683538, 0.63800379, 0.92175861])"
      ]
     },
     "execution_count": 105,
     "metadata": {},
     "output_type": "execute_result"
    }
   ],
   "source": [
    "# acessando primeira coluno com todos os elementos\n",
    "n[:,0]"
   ]
  },
  {
   "cell_type": "code",
   "execution_count": 107,
   "id": "1df3ea8f-f0f8-4042-807a-b075a903ed24",
   "metadata": {},
   "outputs": [
    {
     "data": {
      "text/plain": [
       "array([[0.84570698, 0.23452239, 0.56762515, 0.07616677],\n",
       "       [0.44754607, 0.51145719, 0.01709822, 0.80081769],\n",
       "       [0.26951845, 0.44826933, 0.65687441, 0.39097762],\n",
       "       [0.71068569, 0.29993132, 0.37882488, 0.80771314],\n",
       "       [0.13002048, 0.85209877, 0.01592487, 0.8972322 ],\n",
       "       [0.81483332, 0.21096774, 0.3247346 , 0.92405997],\n",
       "       [0.41097165, 0.50339224, 0.3530622 , 0.12526365],\n",
       "       [0.46956351, 0.35902018, 0.75437464, 0.20096108],\n",
       "       [0.39254537, 0.71429042, 0.98486418, 0.59344248],\n",
       "       [0.08223755, 0.61999815, 0.31647604, 0.93619314]])"
      ]
     },
     "execution_count": 107,
     "metadata": {},
     "output_type": "execute_result"
    }
   ],
   "source": [
    "# acessa todas as linhas, mas sem a primeira coluna\n",
    "n[:,1:5]"
   ]
  },
  {
   "cell_type": "code",
   "execution_count": 108,
   "id": "5364f5cc-5c84-44e8-b2b7-c96e003f7033",
   "metadata": {},
   "outputs": [
    {
     "data": {
      "text/plain": [
       "array([0.84570698, 0.23452239, 0.56762515, 0.07616677])"
      ]
     },
     "execution_count": 108,
     "metadata": {},
     "output_type": "execute_result"
    }
   ],
   "source": [
    "# acessa primeira linha e colunas da segunda a quinta\n",
    "n[0,1:5]"
   ]
  },
  {
   "cell_type": "code",
   "execution_count": 109,
   "id": "32388af7-72d8-4596-8cb2-e7beb91e0396",
   "metadata": {},
   "outputs": [
    {
     "data": {
      "text/plain": [
       "0.2720406793734761"
      ]
     },
     "execution_count": 109,
     "metadata": {},
     "output_type": "execute_result"
    }
   ],
   "source": [
    "# acessa ultimo elemento da primeira linha\n",
    "n[0,-1]"
   ]
  },
  {
   "cell_type": "code",
   "execution_count": 113,
   "id": "a76c4106-a4a0-42c5-88d3-d0af35fe3d7f",
   "metadata": {},
   "outputs": [
    {
     "data": {
      "text/plain": [
       "array([0.07616677, 0.90943134, 0.78544855, 0.87217973, 0.54793391])"
      ]
     },
     "execution_count": 113,
     "metadata": {},
     "output_type": "execute_result"
    }
   ],
   "source": [
    "#acessa primeira linha na quinta coluna, até penultimo elemento da linha\n",
    "n[0,4:-1]"
   ]
  },
  {
   "cell_type": "code",
   "execution_count": 114,
   "id": "ee86b532-03e9-4a25-a87a-abb28d772293",
   "metadata": {},
   "outputs": [
    {
     "data": {
      "text/plain": [
       "array([0.07616677, 0.90943134, 0.78544855, 0.87217973, 0.54793391,\n",
       "       0.27204068])"
      ]
     },
     "execution_count": 114,
     "metadata": {},
     "output_type": "execute_result"
    }
   ],
   "source": [
    "# acessa primeira linha, quinta coluna, até final da linha\n",
    "n[0,4:]"
   ]
  },
  {
   "cell_type": "code",
   "execution_count": 117,
   "id": "8cb0f7c6-8032-4c62-91f0-20591ae73ca4",
   "metadata": {},
   "outputs": [
    {
     "name": "stdout",
     "output_type": "stream",
     "text": [
      "[[ 0.50210908  1.44185557  0.15923371  1.04314389 -0.96539211  1.51450214\n",
      "   1.36793759  1.47267815  1.0078373   0.30763425]\n",
      " [ 0.66299236  0.80546211  0.93894651 -2.45934297  1.38731595 -0.30990177\n",
      "   0.94043818  0.87654683  0.253498   -0.82934378]\n",
      " [ 0.74978891  0.29831947  0.80707687  1.18917548  0.67033296  0.86649155\n",
      "  -0.51666645  1.22305871  0.97992724  1.25812665]\n",
      " [ 1.22669338  1.26791289  0.40523615  0.63875668  1.3958896   1.5404438\n",
      "   1.44517115  1.29524861  1.05439921  0.75064858]\n",
      " [ 1.16889649 -0.43062542  1.44938508 -2.53043516  1.50099733 -0.89448954\n",
      "   1.47283886  1.53656788  1.00444595  1.57490413]\n",
      " [ 1.19266592  1.4046662   0.05338785  0.48469088  1.53045961  1.49939129\n",
      "   0.40924574  0.89239352  0.54373298  0.18265125]\n",
      " [ 1.60711755  0.72020687  0.9230523   0.56832689 -0.46789666  0.65364019\n",
      "  -1.12583623  0.30820244 -0.16350746  1.09535185]\n",
      " [-0.18130978  0.85348619  0.58506123  1.32757175  0.0047939   1.50139658\n",
      "   1.30391539  0.73969834  0.40333341 -1.06896972]\n",
      " [ 1.16002686  0.67433475  1.27297226  1.59418638  1.08762293  1.26901272\n",
      "   1.13216438 -2.30294121  1.11288261  0.16498655]\n",
      " [ 1.52796601 -0.8887054   1.13139913  0.45893016  1.54350444 -0.08328915\n",
      "   1.3207544   1.19762834  0.53071675  0.01479113]]\n"
     ]
    }
   ],
   "source": [
    "an = np.log(n*5)\n",
    "print(an)\n",
    "# calculo do log de cada elemento multiplicado por 5\n",
    "# an é a nova matriz"
   ]
  },
  {
   "cell_type": "code",
   "execution_count": null,
   "id": "bd600069-ed17-441a-9568-f5eca7548254",
   "metadata": {},
   "outputs": [],
   "source": []
  }
 ],
 "metadata": {
  "kernelspec": {
   "display_name": "Python 3 (ipykernel)",
   "language": "python",
   "name": "python3"
  },
  "language_info": {
   "codemirror_mode": {
    "name": "ipython",
    "version": 3
   },
   "file_extension": ".py",
   "mimetype": "text/x-python",
   "name": "python",
   "nbconvert_exporter": "python",
   "pygments_lexer": "ipython3",
   "version": "3.11.8"
  }
 },
 "nbformat": 4,
 "nbformat_minor": 5
}
