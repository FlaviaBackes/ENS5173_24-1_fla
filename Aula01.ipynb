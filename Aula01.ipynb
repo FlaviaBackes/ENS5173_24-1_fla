{
 "cells": [
  {
   "cell_type": "markdown",
   "id": "6ea68963-aa0f-49d8-b4b2-41281f038ae0",
   "metadata": {},
   "source": [
    "# Aula 03/04/2024 - Comandos Básicos no Python\n",
    "\n",
    "Nesta aula aprenderemos a importar pacotes e os tipos de variáveis \\\n",
    "Desenvolvedor: Flávia Backes"
   ]
  },
  {
   "cell_type": "markdown",
   "id": "eb4713aa-d62e-4312-a0f8-7d37dfa6b664",
   "metadata": {},
   "source": [
    "## Tipos de Variáveis "
   ]
  },
  {
   "cell_type": "code",
   "execution_count": 6,
   "id": "cd1c176c-e3fe-4462-bbee-232e059000ae",
   "metadata": {},
   "outputs": [
    {
     "name": "stdout",
     "output_type": "stream",
     "text": [
      "a = 1\n",
      "<class 'int'>\n"
     ]
    }
   ],
   "source": [
    "# Criando variáveis inteiras \n",
    "a = 1\n",
    "print('a = '+str(a))\n",
    "print(type(a))\n"
   ]
  },
  {
   "cell_type": "code",
   "execution_count": 8,
   "id": "5bcbd36b-0a57-4038-928c-4c9f19aff3f5",
   "metadata": {},
   "outputs": [
    {
     "name": "stdout",
     "output_type": "stream",
     "text": [
      " Salve o Corinthians \n",
      "<class 'str'>\n"
     ]
    }
   ],
   "source": [
    "# Criando variáveis String \n",
    "b= ' Salve o'\n",
    "c= ' Corinthians '\n",
    "print (b+c)\n",
    "print (type(b))"
   ]
  },
  {
   "cell_type": "code",
   "execution_count": 11,
   "id": "00fd58a6-5769-4397-afba-01732ba64bd4",
   "metadata": {},
   "outputs": [
    {
     "name": "stdout",
     "output_type": "stream",
     "text": [
      "666.666\n",
      "<class 'float'>\n"
     ]
    }
   ],
   "source": [
    "# Criando variáveis float/double precision\n",
    "d= 666.666\n",
    "print(d)\n",
    "print(type(d))"
   ]
  },
  {
   "cell_type": "code",
   "execution_count": null,
   "id": "d212fe5d-576d-49cf-b59e-a8c3b38bd25e",
   "metadata": {},
   "outputs": [],
   "source": []
  }
 ],
 "metadata": {
  "kernelspec": {
   "display_name": "Python 3 (ipykernel)",
   "language": "python",
   "name": "python3"
  },
  "language_info": {
   "codemirror_mode": {
    "name": "ipython",
    "version": 3
   },
   "file_extension": ".py",
   "mimetype": "text/x-python",
   "name": "python",
   "nbconvert_exporter": "python",
   "pygments_lexer": "ipython3",
   "version": "3.11.8"
  }
 },
 "nbformat": 4,
 "nbformat_minor": 5
}
