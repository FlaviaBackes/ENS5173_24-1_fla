{
 "cells": [
  {
   "cell_type": "code",
   "execution_count": 2,
   "id": "e65e2720-608e-4516-b084-ca13a798b17c",
   "metadata": {},
   "outputs": [
    {
     "name": "stdout",
     "output_type": "stream",
     "text": [
      "Guilherme gente fina\n"
     ]
    }
   ],
   "source": [
    "# Tipos de Variáveis\n",
    "a = 'Guilherme '\n",
    "b = a+ 'gente fina'\n",
    "print(b)\n"
   ]
  },
  {
   "cell_type": "code",
   "execution_count": 3,
   "id": "7d4decbf-714f-4c63-bfd0-1e9e739471ba",
   "metadata": {},
   "outputs": [
    {
     "name": "stdout",
     "output_type": "stream",
     "text": [
      "11\n",
      "<class 'int'>\n"
     ]
    }
   ],
   "source": [
    "# Tipos de variáveis - Inteira\n",
    "c = 1\n",
    "d = c+10\n",
    "print(d)\n",
    "print(type(d))\n"
   ]
  },
  {
   "cell_type": "code",
   "execution_count": 9,
   "id": "7da39a62-8061-4d79-98ff-226bf9cba946",
   "metadata": {},
   "outputs": [
    {
     "name": "stdout",
     "output_type": "stream",
     "text": [
      "valor de g= 21.0 e o valor de h = 110.25\n",
      "<class 'float'>\n",
      "Valor de f = 10 do tipo= <class 'int'>\n",
      "Valor de f = 10.0 do tipo= <class 'float'>\n"
     ]
    }
   ],
   "source": [
    "# Tipos de variáveis - float\n",
    "\n",
    "f = 10.5\n",
    "g = f*2\n",
    "h = f**2\n",
    "print('valor de g= ' +str(g)+' e o valor de h = ' +str(h))\n",
    "print(type(h))\n",
    "f=int(f)\n",
    "print('Valor de f = '+str(f)+' do tipo= '+str(type(f)))\n",
    "f=float(f)\n",
    "print('Valor de f = '+str(f)+' do tipo= '+str(type(f)))"
   ]
  },
  {
   "cell_type": "code",
   "execution_count": 43,
   "id": "48ecc262-dfb0-48be-a3ec-71be9f919e53",
   "metadata": {},
   "outputs": [
    {
     "name": "stdout",
     "output_type": "stream",
     "text": [
      "['Guilherme', 'Flávia', 'Lucas']\n",
      "[3.0, 6.0, 6.0]\n",
      "<class 'list'>\n"
     ]
    }
   ],
   "source": [
    "# Exemplo dicionário\n",
    "\n",
    "dicionario = {\n",
    "   'alunos':['Guilherme', 'Flávia', 'Lucas'],\n",
    "   'notas':[3.0, 6.0, 6.0]\n",
    "}\n",
    "\n",
    "print(dicionario['alunos'])\n",
    "print(dicionario['notas'])\n",
    "print(type(dicionario['notas']))"
   ]
  },
  {
   "cell_type": "code",
   "execution_count": 44,
   "id": "6c41f047-4427-4d31-bfa0-3fd81293fc4b",
   "metadata": {},
   "outputs": [
    {
     "name": "stdout",
     "output_type": "stream",
     "text": [
      "Guilherme\n",
      "Flávia\n",
      "Lucas\n"
     ]
    }
   ],
   "source": [
    "# Treinando loop\n",
    "for alunos in dicionario['alunos']:\n",
    "    print(alunos)"
   ]
  },
  {
   "cell_type": "code",
   "execution_count": 45,
   "id": "0253d2ec-272e-446a-8dcc-ad73fdbc623e",
   "metadata": {},
   "outputs": [
    {
     "name": "stdout",
     "output_type": "stream",
     "text": [
      "0 Guilherme nota= 3.0\n",
      "1 Flávia nota= 6.0\n",
      "2 Lucas nota= 6.0\n",
      " \n",
      "0 Guilherme nota= 3.0\n",
      "1 Flávia nota= 6.0\n",
      "2 Lucas nota= 6.0\n"
     ]
    }
   ],
   "source": [
    "# Treinando loop\n",
    "for ii,aluno in enumerate(dicionario['alunos']):\n",
    "    print(str(ii) + ' '+ aluno + ' nota= ' + str(dicionario['notas'][ii]))\n",
    "print(' ')\n",
    "for ii in range(0,len(dicionario['alunos'])):\n",
    "    print(str(ii) + ' '+ str(dicionario['alunos'][ii]) + ' nota= ' + str(dicionario['notas'][ii]))"
   ]
  },
  {
   "cell_type": "code",
   "execution_count": 48,
   "id": "0ab2facf-c5f0-4823-aafa-fe0103619c52",
   "metadata": {},
   "outputs": [
    {
     "name": "stdout",
     "output_type": "stream",
     "text": [
      "0 Guilherme nota= 10.0\n",
      "1 Flávia nota= 6.0\n",
      "2 Lucas nota= 6.0\n",
      " \n",
      "0 Guilherme nota= 3.0\n",
      "1 Flávia nota= 6.0\n",
      "2 Lucas nota= 10.0\n"
     ]
    }
   ],
   "source": [
    "# Treinando loop com condição\n",
    "for ii,aluno in enumerate(dicionario['alunos']):\n",
    "    if aluno=='Guilherme':  #comparando\n",
    "         print(str(ii) + ' '+ aluno + ' nota= 10.0')\n",
    "    else:\n",
    "        print(str(ii) + ' '+ aluno + ' nota= ' + str(dicionario['notas'][ii]))\n",
    "\n",
    "print(' ')\n",
    "\n",
    "for ii,aluno in enumerate(dicionario['alunos']):\n",
    "    if ii==2:\n",
    "         print(str(ii) + ' '+ aluno + ' nota= 10.0')\n",
    "    else:\n",
    "        print(str(ii) + ' '+ aluno + ' nota= ' + str(dicionario['notas'][ii]))\n"
   ]
  },
  {
   "cell_type": "code",
   "execution_count": 62,
   "id": "d6e94fa1-9281-4f0a-82ec-41c2e379dc14",
   "metadata": {},
   "outputs": [
    {
     "name": "stdout",
     "output_type": "stream",
     "text": [
      "False\n",
      "True\n",
      "False\n",
      "True\n",
      "True\n",
      "True\n",
      "<class 'bool'>\n"
     ]
    }
   ],
   "source": [
    "# Operações Lógicas\n",
    "a = 1\n",
    "b = 3\n",
    "c = 1\n",
    "print(a==b)  #Igual a - operação lógica\n",
    "print(a==c)\n",
    "print(a>b)\n",
    "print(a<b)\n",
    "print(a>=c)\n",
    "print(a!=b) #diferente de\n",
    "\n",
    "opTF = a!=c\n",
    "print(type(opTF)) #VARIAVEL QUE SO PODE SER TRUE OU FALSE\n",
    "\n",
    "opT = True\n",
    "opF = False"
   ]
  },
  {
   "cell_type": "code",
   "execution_count": 65,
   "id": "1a43269d-1752-4cff-8b74-37cf3744f152",
   "metadata": {},
   "outputs": [
    {
     "name": "stdout",
     "output_type": "stream",
     "text": [
      "0 Guilherme nota= 9.5\n",
      "1 Flávia nota= 6.0\n",
      "2 Lucas nota= 6.0\n"
     ]
    }
   ],
   "source": [
    "# Exemplo dicionário\n",
    "\n",
    "dicionario = {\n",
    "   'alunos':['Guilherme', 'Flávia', 'Lucas'],\n",
    "   'notas':[9.5, 6.0, 6.0]\n",
    "}\n",
    "\n",
    "# Treinando loop com condição\n",
    "for ii,aluno in enumerate(dicionario['alunos']):\n",
    "    if (aluno=='Guilherme') and (dicionario['notas'][ii]<=9):  #comparando\n",
    "         print(str(ii) + ' '+ aluno + ' nota= 10.0')\n",
    "    else:\n",
    "        print(str(ii) + ' '+ aluno + ' nota= ' + str(dicionario['notas'][ii]))\n"
   ]
  },
  {
   "cell_type": "code",
   "execution_count": 75,
   "id": "88accc9c-e9c2-405f-b9c1-d02b571546b5",
   "metadata": {},
   "outputs": [
    {
     "name": "stdout",
     "output_type": "stream",
     "text": [
      "['Guilherme' 'Flávia' 'Lucas']\n",
      "<class 'numpy.ndarray'>\n",
      " \n",
      "[False False  True]\n",
      "(array([2], dtype=int64),)\n",
      " \n"
     ]
    },
    {
     "name": "stderr",
     "output_type": "stream",
     "text": [
      "C:\\Users\\Flavia\\AppData\\Local\\Temp\\ipykernel_14988\\1504227326.py:16: DeprecationWarning: Conversion of an array with ndim > 0 to a scalar is deprecated, and will error in future. Ensure you extract a single element from your array before performing this operation. (Deprecated NumPy 1.25.)\n",
      "  dicionario['notas'][int(np.where(mat2)[0])]=9.5\n"
     ]
    }
   ],
   "source": [
    "# Treinando NumPy\n",
    "\n",
    "import numpy as np\n",
    "#convertendo pra numpy\n",
    "mat = np.array(dicionario['alunos'])\n",
    "print(mat)\n",
    "print(type(mat))\n",
    "\n",
    "print(' ')\n",
    "mat2 = np.array(mat=='Lucas')\n",
    "print(mat2)\n",
    "#Local da matriz com valor verdadeiro\n",
    "print(np.where(mat2))\n",
    "\n",
    "print(' ')\n",
    "dicionario['notas'][int(np.where(mat2)[0])]=9.5"
   ]
  },
  {
   "cell_type": "code",
   "execution_count": 80,
   "id": "e4471ccc-8c72-41aa-ab6e-c2d12080b715",
   "metadata": {},
   "outputs": [
    {
     "name": "stdout",
     "output_type": "stream",
     "text": [
      "[0.79102775 0.04476291 0.82865173 0.13201242 0.2660741  0.56828095\n",
      " 0.33389841 0.06835095 0.4244489  0.85428196 0.61661055 0.76767231\n",
      " 0.95064399 0.50764546 0.10405711 0.45920265 0.76186242 0.23274639\n",
      " 0.17976977 0.19450536 0.69017444 0.53299623 0.89478146 0.88103427\n",
      " 0.69876885 0.72023872 0.71407452 0.54472352 0.12315542 0.08356572\n",
      " 0.78382707 0.65561388 0.00624465 0.0169292  0.8491459  0.16421822\n",
      " 0.14314373 0.92617034 0.22416031 0.79180003 0.57656301 0.36893977\n",
      " 0.23707946 0.75422648 0.20386972 0.30964647 0.57423719 0.94536056\n",
      " 0.00878736 0.2059066  0.6917147  0.33410789 0.64680209 0.98650709\n",
      " 0.30259268 0.14307286 0.67535053 0.83355919 0.58826634 0.74563432\n",
      " 0.69601098 0.63103442 0.37237333 0.70244659 0.926888   0.40722491\n",
      " 0.18158916 0.97141568 0.49968119 0.18810435 0.20295563 0.71106612\n",
      " 0.82789835 0.23651553 0.33368334 0.26437956 0.03794282 0.69354401\n",
      " 0.52650301 0.60017197 0.34089773 0.47214291 0.83744529 0.91953828\n",
      " 0.52481149 0.00868671 0.86320156 0.86495157 0.6387773  0.81137129\n",
      " 0.33899335 0.06659004 0.7801356  0.13417371 0.25974179 0.98509381\n",
      " 0.58337484 0.56328909 0.18633945 0.643617  ]\n",
      "[0.71107628 0.04474796 0.73702079 0.13162931 0.26294572 0.53818398\n",
      " 0.32772861 0.06829774 0.41181864 0.75409953 0.57827323 0.69446228\n",
      " 0.81378993 0.48612098 0.10386943 0.4432335  0.6902702  0.23065073\n",
      " 0.17880306 0.19328125 0.63667171 0.50811624 0.78007236 0.77139745\n",
      " 0.64327557 0.65956412 0.65491831 0.51818165 0.12284434 0.0834685\n",
      " 0.70599498 0.60964596 0.00624461 0.0169284  0.75071644 0.16348112\n",
      " 0.14265539 0.79932457 0.22228776 0.71161906 0.54514579 0.36062674\n",
      " 0.23486478 0.68472513 0.20246042 0.30472194 0.54319449 0.81070808\n",
      " 0.00878725 0.20445469 0.63785871 0.32792652 0.60263751 0.83410436\n",
      " 0.29799609 0.14258524 0.62517094 0.7403287  0.55491962 0.67843795\n",
      " 0.6411616  0.58998029 0.36382713 0.64608701 0.7997556  0.39606271\n",
      " 0.18059283 0.82568517 0.47914573 0.18699703 0.20156518 0.6526419\n",
      " 0.73651139 0.23431659 0.32752542 0.26131043 0.03793371 0.63926648\n",
      " 0.50251303 0.56478439 0.33433329 0.45479579 0.74293551 0.79532182\n",
      " 0.50104987 0.0086866  0.75992749 0.76106385 0.59621427 0.72523199\n",
      " 0.3325379  0.06654084 0.70337582 0.13377149 0.25683101 0.83332395\n",
      " 0.55084374 0.53397002 0.18526296 0.60009271]\n"
     ]
    }
   ],
   "source": [
    "# Mtriz numpy\n",
    "\n",
    "vec= np.random.rand(100)\n",
    "print(vec)\n",
    "vec2 = np.sin(vec)\n",
    "print(vec2)\n",
    "\n"
   ]
  },
  {
   "cell_type": "code",
   "execution_count": 83,
   "id": "b20ed960-b064-43e8-9318-5f26683bcf5e",
   "metadata": {},
   "outputs": [
    {
     "name": "stdout",
     "output_type": "stream",
     "text": [
      "2024-01-01\n",
      "2024-01-02\n",
      "2024-01-03\n",
      "2024-01-04\n",
      "2024-01-05\n",
      "2024-01-06\n",
      "2024-01-07\n",
      "2024-01-08\n",
      "2024-01-09\n",
      "2024-01-10\n",
      "2024-01-11\n",
      "2024-01-12\n",
      "2024-01-13\n",
      "2024-01-14\n",
      "2024-01-15\n",
      "2024-01-16\n",
      "2024-01-17\n",
      "2024-01-18\n",
      "2024-01-19\n",
      "2024-01-20\n",
      "2024-01-21\n",
      "2024-01-22\n",
      "2024-01-23\n",
      "2024-01-24\n",
      "2024-01-25\n",
      "2024-01-26\n",
      "2024-01-27\n",
      "2024-01-28\n",
      "2024-01-29\n",
      "2024-01-30\n",
      "2024-01-31\n",
      "2024-02-01\n",
      "2024-02-02\n",
      "2024-02-03\n",
      "2024-02-04\n",
      "2024-02-05\n",
      "2024-02-06\n",
      "2024-02-07\n",
      "2024-02-08\n",
      "2024-02-09\n",
      "2024-02-10\n",
      "2024-02-11\n",
      "2024-02-12\n",
      "2024-02-13\n",
      "2024-02-14\n",
      "2024-02-15\n",
      "2024-02-16\n",
      "2024-02-17\n",
      "2024-02-18\n",
      "2024-02-19\n",
      "2024-02-20\n",
      "2024-02-21\n",
      "2024-02-22\n",
      "2024-02-23\n",
      "2024-02-24\n",
      "2024-02-25\n",
      "2024-02-26\n",
      "2024-02-27\n",
      "2024-02-28\n",
      "2024-02-29\n",
      "2024-03-01\n",
      "2024-03-02\n",
      "2024-03-03\n",
      "2024-03-04\n",
      "2024-03-05\n",
      "2024-03-06\n",
      "2024-03-07\n",
      "2024-03-08\n",
      "2024-03-09\n",
      "2024-03-10\n",
      "2024-03-11\n",
      "2024-03-12\n",
      "2024-03-13\n",
      "2024-03-14\n",
      "2024-03-15\n",
      "2024-03-16\n",
      "2024-03-17\n",
      "2024-03-18\n",
      "2024-03-19\n",
      "2024-03-20\n",
      "2024-03-21\n",
      "2024-03-22\n",
      "2024-03-23\n",
      "2024-03-24\n",
      "2024-03-25\n",
      "2024-03-26\n",
      "2024-03-27\n",
      "2024-03-28\n",
      "2024-03-29\n",
      "2024-03-30\n",
      "2024-03-31\n",
      "2024-04-01\n",
      "2024-04-02\n",
      "2024-04-03\n",
      "2024-04-04\n",
      "2024-04-05\n",
      "2024-04-06\n",
      "2024-04-07\n",
      "2024-04-08\n",
      "2024-04-09\n"
     ]
    }
   ],
   "source": [
    "# Datetime\n",
    "\n",
    "from datetime import datetime,timedelta\n",
    "\n",
    "start_date=datetime(2024,1,1)\n",
    "\n",
    "date_vector=[]\n",
    "\n",
    "for i in range(0,vec.shape[0]): #se a matriz tiver duas dimensoes, a linha 0. neste caso é só uma\n",
    "    date_vector.append(start_date+timedelta(days=i))\n",
    "\n",
    "for date in date_vector:\n",
    "    print(date.strftime('%Y-%m-%d'))"
   ]
  },
  {
   "cell_type": "code",
   "execution_count": 85,
   "id": "c935bada-2add-4d22-b8e0-9f46bd13d63d",
   "metadata": {},
   "outputs": [
    {
     "name": "stdout",
     "output_type": "stream",
     "text": [
      "        datas       vec      vec2\n",
      "0  2024-01-01  0.791028  0.711076\n",
      "1  2024-01-02  0.044763  0.044748\n",
      "2  2024-01-03  0.828652  0.737021\n",
      "3  2024-01-04  0.132012  0.131629\n",
      "4  2024-01-05  0.266074  0.262946\n",
      "..        ...       ...       ...\n",
      "95 2024-04-05  0.985094  0.833324\n",
      "96 2024-04-06  0.583375  0.550844\n",
      "97 2024-04-07  0.563289  0.533970\n",
      "98 2024-04-08  0.186339  0.185263\n",
      "99 2024-04-09  0.643617  0.600093\n",
      "\n",
      "[100 rows x 3 columns]\n"
     ]
    }
   ],
   "source": [
    "#Criando dataframe e salvando\n",
    "import pandas as pd\n",
    "\n",
    "df=pd.DataFrame()\n",
    "df['datas'] = date_vector\n",
    "df['vec'] = vec\n",
    "df['vec2']=vec2\n",
    "print(df)\n",
    "\n",
    "#Salvando em uma pasta\n",
    "pasta = r\"C:\\CPA\\ENS5173_24-1_fla\\tabelas\"\n",
    "df.to_csv(pasta+'/planilha.csv')"
   ]
  },
  {
   "cell_type": "code",
   "execution_count": null,
   "id": "9107e436-f72d-4da2-ba8b-02bb870d4f1f",
   "metadata": {},
   "outputs": [],
   "source": []
  }
 ],
 "metadata": {
  "kernelspec": {
   "display_name": "Python 3 (ipykernel)",
   "language": "python",
   "name": "python3"
  },
  "language_info": {
   "codemirror_mode": {
    "name": "ipython",
    "version": 3
   },
   "file_extension": ".py",
   "mimetype": "text/x-python",
   "name": "python",
   "nbconvert_exporter": "python",
   "pygments_lexer": "ipython3",
   "version": "3.11.8"
  }
 },
 "nbformat": 4,
 "nbformat_minor": 5
}
